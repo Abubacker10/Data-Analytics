{
 "cells": [
  {
   "cell_type": "code",
   "execution_count": 1,
   "id": "bc989d04",
   "metadata": {
    "_cell_guid": "b1076dfc-b9ad-4769-8c92-a6c4dae69d19",
    "_uuid": "8f2839f25d086af736a60e9eeb907d3b93b6e0e5",
    "execution": {
     "iopub.execute_input": "2024-07-21T13:26:43.968833Z",
     "iopub.status.busy": "2024-07-21T13:26:43.968430Z",
     "iopub.status.idle": "2024-07-21T13:26:47.151446Z",
     "shell.execute_reply": "2024-07-21T13:26:47.150351Z"
    },
    "papermill": {
     "duration": 3.203086,
     "end_time": "2024-07-21T13:26:47.154631",
     "exception": false,
     "start_time": "2024-07-21T13:26:43.951545",
     "status": "completed"
    },
    "tags": []
   },
   "outputs": [
    {
     "name": "stdout",
     "output_type": "stream",
     "text": [
      "/kaggle/input/customer-shopping-dataset/customer_shopping_data.csv\n"
     ]
    }
   ],
   "source": [
    "# This Python 3 environment comes with many helpful analytics libraries installed\n",
    "# It is defined by the kaggle/python Docker image: https://github.com/kaggle/docker-python\n",
    "# For example, here's several helpful packages to load\n",
    "import warnings\n",
    "warnings.filterwarnings('ignore')\n",
    "import numpy as np # linear algebra\n",
    "import pandas as pd # data processing, CSV file I/O (e.g. pd.read_csv)\n",
    "from sklearn.preprocessing import StandardScaler\n",
    "from sklearn.cluster import KMeans\n",
    "import seaborn as sns\n",
    "import matplotlib.pyplot as plt\n",
    "\n",
    "# Input data files are available in the read-only \"../input/\" directory\n",
    "# For example, running this (by clicking run or pressing Shift+Enter) will list all files under the input directory\n",
    "\n",
    "import os\n",
    "for dirname, _, filenames in os.walk('/kaggle/input'):\n",
    "    for filename in filenames:\n",
    "        print(os.path.join(dirname, filename))\n",
    "\n",
    "# You can write up to 20GB to the current directory (/kaggle/working/) that gets preserved as output when you create a version using \"Save & Run All\" \n",
    "# You can also write temporary files to /kaggle/temp/, but they won't be saved outside of the current session"
   ]
  },
  {
   "cell_type": "code",
   "execution_count": 2,
   "id": "3c760314",
   "metadata": {
    "execution": {
     "iopub.execute_input": "2024-07-21T13:26:47.184485Z",
     "iopub.status.busy": "2024-07-21T13:26:47.183812Z",
     "iopub.status.idle": "2024-07-21T13:26:47.597810Z",
     "shell.execute_reply": "2024-07-21T13:26:47.596623Z"
    },
    "papermill": {
     "duration": 0.43042,
     "end_time": "2024-07-21T13:26:47.600491",
     "exception": false,
     "start_time": "2024-07-21T13:26:47.170071",
     "status": "completed"
    },
    "tags": []
   },
   "outputs": [],
   "source": [
    "data = pd.read_csv(r'/kaggle/input/customer-shopping-dataset/customer_shopping_data.csv')"
   ]
  },
  {
   "cell_type": "code",
   "execution_count": 3,
   "id": "6ecf4252",
   "metadata": {
    "execution": {
     "iopub.execute_input": "2024-07-21T13:26:47.632678Z",
     "iopub.status.busy": "2024-07-21T13:26:47.632271Z",
     "iopub.status.idle": "2024-07-21T13:26:47.661407Z",
     "shell.execute_reply": "2024-07-21T13:26:47.660273Z"
    },
    "papermill": {
     "duration": 0.05078,
     "end_time": "2024-07-21T13:26:47.663926",
     "exception": false,
     "start_time": "2024-07-21T13:26:47.613146",
     "status": "completed"
    },
    "tags": []
   },
   "outputs": [
    {
     "data": {
      "text/html": [
       "<div>\n",
       "<style scoped>\n",
       "    .dataframe tbody tr th:only-of-type {\n",
       "        vertical-align: middle;\n",
       "    }\n",
       "\n",
       "    .dataframe tbody tr th {\n",
       "        vertical-align: top;\n",
       "    }\n",
       "\n",
       "    .dataframe thead th {\n",
       "        text-align: right;\n",
       "    }\n",
       "</style>\n",
       "<table border=\"1\" class=\"dataframe\">\n",
       "  <thead>\n",
       "    <tr style=\"text-align: right;\">\n",
       "      <th></th>\n",
       "      <th>invoice_no</th>\n",
       "      <th>customer_id</th>\n",
       "      <th>gender</th>\n",
       "      <th>age</th>\n",
       "      <th>category</th>\n",
       "      <th>quantity</th>\n",
       "      <th>price</th>\n",
       "      <th>payment_method</th>\n",
       "      <th>invoice_date</th>\n",
       "      <th>shopping_mall</th>\n",
       "    </tr>\n",
       "  </thead>\n",
       "  <tbody>\n",
       "    <tr>\n",
       "      <th>0</th>\n",
       "      <td>I138884</td>\n",
       "      <td>C241288</td>\n",
       "      <td>Female</td>\n",
       "      <td>28</td>\n",
       "      <td>Clothing</td>\n",
       "      <td>5</td>\n",
       "      <td>1500.40</td>\n",
       "      <td>Credit Card</td>\n",
       "      <td>5/8/2022</td>\n",
       "      <td>Kanyon</td>\n",
       "    </tr>\n",
       "    <tr>\n",
       "      <th>1</th>\n",
       "      <td>I317333</td>\n",
       "      <td>C111565</td>\n",
       "      <td>Male</td>\n",
       "      <td>21</td>\n",
       "      <td>Shoes</td>\n",
       "      <td>3</td>\n",
       "      <td>1800.51</td>\n",
       "      <td>Debit Card</td>\n",
       "      <td>12/12/2021</td>\n",
       "      <td>Forum Istanbul</td>\n",
       "    </tr>\n",
       "    <tr>\n",
       "      <th>2</th>\n",
       "      <td>I127801</td>\n",
       "      <td>C266599</td>\n",
       "      <td>Male</td>\n",
       "      <td>20</td>\n",
       "      <td>Clothing</td>\n",
       "      <td>1</td>\n",
       "      <td>300.08</td>\n",
       "      <td>Cash</td>\n",
       "      <td>9/11/2021</td>\n",
       "      <td>Metrocity</td>\n",
       "    </tr>\n",
       "    <tr>\n",
       "      <th>3</th>\n",
       "      <td>I173702</td>\n",
       "      <td>C988172</td>\n",
       "      <td>Female</td>\n",
       "      <td>66</td>\n",
       "      <td>Shoes</td>\n",
       "      <td>5</td>\n",
       "      <td>3000.85</td>\n",
       "      <td>Credit Card</td>\n",
       "      <td>16/05/2021</td>\n",
       "      <td>Metropol AVM</td>\n",
       "    </tr>\n",
       "    <tr>\n",
       "      <th>4</th>\n",
       "      <td>I337046</td>\n",
       "      <td>C189076</td>\n",
       "      <td>Female</td>\n",
       "      <td>53</td>\n",
       "      <td>Books</td>\n",
       "      <td>4</td>\n",
       "      <td>60.60</td>\n",
       "      <td>Cash</td>\n",
       "      <td>24/10/2021</td>\n",
       "      <td>Kanyon</td>\n",
       "    </tr>\n",
       "  </tbody>\n",
       "</table>\n",
       "</div>"
      ],
      "text/plain": [
       "  invoice_no customer_id  gender  age  category  quantity    price  \\\n",
       "0    I138884     C241288  Female   28  Clothing         5  1500.40   \n",
       "1    I317333     C111565    Male   21     Shoes         3  1800.51   \n",
       "2    I127801     C266599    Male   20  Clothing         1   300.08   \n",
       "3    I173702     C988172  Female   66     Shoes         5  3000.85   \n",
       "4    I337046     C189076  Female   53     Books         4    60.60   \n",
       "\n",
       "  payment_method invoice_date   shopping_mall  \n",
       "0    Credit Card     5/8/2022          Kanyon  \n",
       "1     Debit Card   12/12/2021  Forum Istanbul  \n",
       "2           Cash    9/11/2021       Metrocity  \n",
       "3    Credit Card   16/05/2021    Metropol AVM  \n",
       "4           Cash   24/10/2021          Kanyon  "
      ]
     },
     "execution_count": 3,
     "metadata": {},
     "output_type": "execute_result"
    }
   ],
   "source": [
    "data.head()"
   ]
  },
  {
   "cell_type": "code",
   "execution_count": 4,
   "id": "76c3bc47",
   "metadata": {
    "execution": {
     "iopub.execute_input": "2024-07-21T13:26:47.689975Z",
     "iopub.status.busy": "2024-07-21T13:26:47.689563Z",
     "iopub.status.idle": "2024-07-21T13:26:47.725954Z",
     "shell.execute_reply": "2024-07-21T13:26:47.724810Z"
    },
    "papermill": {
     "duration": 0.052602,
     "end_time": "2024-07-21T13:26:47.728370",
     "exception": false,
     "start_time": "2024-07-21T13:26:47.675768",
     "status": "completed"
    },
    "tags": []
   },
   "outputs": [
    {
     "data": {
      "text/html": [
       "<div>\n",
       "<style scoped>\n",
       "    .dataframe tbody tr th:only-of-type {\n",
       "        vertical-align: middle;\n",
       "    }\n",
       "\n",
       "    .dataframe tbody tr th {\n",
       "        vertical-align: top;\n",
       "    }\n",
       "\n",
       "    .dataframe thead th {\n",
       "        text-align: right;\n",
       "    }\n",
       "</style>\n",
       "<table border=\"1\" class=\"dataframe\">\n",
       "  <thead>\n",
       "    <tr style=\"text-align: right;\">\n",
       "      <th></th>\n",
       "      <th>age</th>\n",
       "      <th>quantity</th>\n",
       "      <th>price</th>\n",
       "    </tr>\n",
       "  </thead>\n",
       "  <tbody>\n",
       "    <tr>\n",
       "      <th>count</th>\n",
       "      <td>99457.000000</td>\n",
       "      <td>99457.000000</td>\n",
       "      <td>99457.000000</td>\n",
       "    </tr>\n",
       "    <tr>\n",
       "      <th>mean</th>\n",
       "      <td>43.427089</td>\n",
       "      <td>3.003429</td>\n",
       "      <td>689.256321</td>\n",
       "    </tr>\n",
       "    <tr>\n",
       "      <th>std</th>\n",
       "      <td>14.990054</td>\n",
       "      <td>1.413025</td>\n",
       "      <td>941.184567</td>\n",
       "    </tr>\n",
       "    <tr>\n",
       "      <th>min</th>\n",
       "      <td>18.000000</td>\n",
       "      <td>1.000000</td>\n",
       "      <td>5.230000</td>\n",
       "    </tr>\n",
       "    <tr>\n",
       "      <th>25%</th>\n",
       "      <td>30.000000</td>\n",
       "      <td>2.000000</td>\n",
       "      <td>45.450000</td>\n",
       "    </tr>\n",
       "    <tr>\n",
       "      <th>50%</th>\n",
       "      <td>43.000000</td>\n",
       "      <td>3.000000</td>\n",
       "      <td>203.300000</td>\n",
       "    </tr>\n",
       "    <tr>\n",
       "      <th>75%</th>\n",
       "      <td>56.000000</td>\n",
       "      <td>4.000000</td>\n",
       "      <td>1200.320000</td>\n",
       "    </tr>\n",
       "    <tr>\n",
       "      <th>max</th>\n",
       "      <td>69.000000</td>\n",
       "      <td>5.000000</td>\n",
       "      <td>5250.000000</td>\n",
       "    </tr>\n",
       "  </tbody>\n",
       "</table>\n",
       "</div>"
      ],
      "text/plain": [
       "                age      quantity         price\n",
       "count  99457.000000  99457.000000  99457.000000\n",
       "mean      43.427089      3.003429    689.256321\n",
       "std       14.990054      1.413025    941.184567\n",
       "min       18.000000      1.000000      5.230000\n",
       "25%       30.000000      2.000000     45.450000\n",
       "50%       43.000000      3.000000    203.300000\n",
       "75%       56.000000      4.000000   1200.320000\n",
       "max       69.000000      5.000000   5250.000000"
      ]
     },
     "execution_count": 4,
     "metadata": {},
     "output_type": "execute_result"
    }
   ],
   "source": [
    "data.describe()"
   ]
  },
  {
   "cell_type": "code",
   "execution_count": 5,
   "id": "c54ab46c",
   "metadata": {
    "execution": {
     "iopub.execute_input": "2024-07-21T13:26:47.755145Z",
     "iopub.status.busy": "2024-07-21T13:26:47.754780Z",
     "iopub.status.idle": "2024-07-21T13:26:47.767148Z",
     "shell.execute_reply": "2024-07-21T13:26:47.766032Z"
    },
    "papermill": {
     "duration": 0.028453,
     "end_time": "2024-07-21T13:26:47.769912",
     "exception": false,
     "start_time": "2024-07-21T13:26:47.741459",
     "status": "completed"
    },
    "tags": []
   },
   "outputs": [],
   "source": [
    "#lets add a Revenue column\n",
    "# revenue = quantity*price\n",
    "df = data.copy()\n",
    "df['revenue'] = data.quantity*data.price"
   ]
  },
  {
   "cell_type": "code",
   "execution_count": 6,
   "id": "6db4600c",
   "metadata": {
    "execution": {
     "iopub.execute_input": "2024-07-21T13:26:47.795824Z",
     "iopub.status.busy": "2024-07-21T13:26:47.795388Z",
     "iopub.status.idle": "2024-07-21T13:26:47.811416Z",
     "shell.execute_reply": "2024-07-21T13:26:47.810267Z"
    },
    "papermill": {
     "duration": 0.031424,
     "end_time": "2024-07-21T13:26:47.813642",
     "exception": false,
     "start_time": "2024-07-21T13:26:47.782218",
     "status": "completed"
    },
    "tags": []
   },
   "outputs": [
    {
     "data": {
      "text/html": [
       "<div>\n",
       "<style scoped>\n",
       "    .dataframe tbody tr th:only-of-type {\n",
       "        vertical-align: middle;\n",
       "    }\n",
       "\n",
       "    .dataframe tbody tr th {\n",
       "        vertical-align: top;\n",
       "    }\n",
       "\n",
       "    .dataframe thead th {\n",
       "        text-align: right;\n",
       "    }\n",
       "</style>\n",
       "<table border=\"1\" class=\"dataframe\">\n",
       "  <thead>\n",
       "    <tr style=\"text-align: right;\">\n",
       "      <th></th>\n",
       "      <th>invoice_no</th>\n",
       "      <th>customer_id</th>\n",
       "      <th>gender</th>\n",
       "      <th>age</th>\n",
       "      <th>category</th>\n",
       "      <th>quantity</th>\n",
       "      <th>price</th>\n",
       "      <th>payment_method</th>\n",
       "      <th>invoice_date</th>\n",
       "      <th>shopping_mall</th>\n",
       "      <th>revenue</th>\n",
       "    </tr>\n",
       "  </thead>\n",
       "  <tbody>\n",
       "    <tr>\n",
       "      <th>0</th>\n",
       "      <td>I138884</td>\n",
       "      <td>C241288</td>\n",
       "      <td>Female</td>\n",
       "      <td>28</td>\n",
       "      <td>Clothing</td>\n",
       "      <td>5</td>\n",
       "      <td>1500.40</td>\n",
       "      <td>Credit Card</td>\n",
       "      <td>5/8/2022</td>\n",
       "      <td>Kanyon</td>\n",
       "      <td>7502.00</td>\n",
       "    </tr>\n",
       "    <tr>\n",
       "      <th>1</th>\n",
       "      <td>I317333</td>\n",
       "      <td>C111565</td>\n",
       "      <td>Male</td>\n",
       "      <td>21</td>\n",
       "      <td>Shoes</td>\n",
       "      <td>3</td>\n",
       "      <td>1800.51</td>\n",
       "      <td>Debit Card</td>\n",
       "      <td>12/12/2021</td>\n",
       "      <td>Forum Istanbul</td>\n",
       "      <td>5401.53</td>\n",
       "    </tr>\n",
       "    <tr>\n",
       "      <th>2</th>\n",
       "      <td>I127801</td>\n",
       "      <td>C266599</td>\n",
       "      <td>Male</td>\n",
       "      <td>20</td>\n",
       "      <td>Clothing</td>\n",
       "      <td>1</td>\n",
       "      <td>300.08</td>\n",
       "      <td>Cash</td>\n",
       "      <td>9/11/2021</td>\n",
       "      <td>Metrocity</td>\n",
       "      <td>300.08</td>\n",
       "    </tr>\n",
       "    <tr>\n",
       "      <th>3</th>\n",
       "      <td>I173702</td>\n",
       "      <td>C988172</td>\n",
       "      <td>Female</td>\n",
       "      <td>66</td>\n",
       "      <td>Shoes</td>\n",
       "      <td>5</td>\n",
       "      <td>3000.85</td>\n",
       "      <td>Credit Card</td>\n",
       "      <td>16/05/2021</td>\n",
       "      <td>Metropol AVM</td>\n",
       "      <td>15004.25</td>\n",
       "    </tr>\n",
       "    <tr>\n",
       "      <th>4</th>\n",
       "      <td>I337046</td>\n",
       "      <td>C189076</td>\n",
       "      <td>Female</td>\n",
       "      <td>53</td>\n",
       "      <td>Books</td>\n",
       "      <td>4</td>\n",
       "      <td>60.60</td>\n",
       "      <td>Cash</td>\n",
       "      <td>24/10/2021</td>\n",
       "      <td>Kanyon</td>\n",
       "      <td>242.40</td>\n",
       "    </tr>\n",
       "  </tbody>\n",
       "</table>\n",
       "</div>"
      ],
      "text/plain": [
       "  invoice_no customer_id  gender  age  category  quantity    price  \\\n",
       "0    I138884     C241288  Female   28  Clothing         5  1500.40   \n",
       "1    I317333     C111565    Male   21     Shoes         3  1800.51   \n",
       "2    I127801     C266599    Male   20  Clothing         1   300.08   \n",
       "3    I173702     C988172  Female   66     Shoes         5  3000.85   \n",
       "4    I337046     C189076  Female   53     Books         4    60.60   \n",
       "\n",
       "  payment_method invoice_date   shopping_mall   revenue  \n",
       "0    Credit Card     5/8/2022          Kanyon   7502.00  \n",
       "1     Debit Card   12/12/2021  Forum Istanbul   5401.53  \n",
       "2           Cash    9/11/2021       Metrocity    300.08  \n",
       "3    Credit Card   16/05/2021    Metropol AVM  15004.25  \n",
       "4           Cash   24/10/2021          Kanyon    242.40  "
      ]
     },
     "execution_count": 6,
     "metadata": {},
     "output_type": "execute_result"
    }
   ],
   "source": [
    "df.head()"
   ]
  },
  {
   "cell_type": "code",
   "execution_count": 7,
   "id": "a651a42e",
   "metadata": {
    "execution": {
     "iopub.execute_input": "2024-07-21T13:26:47.840349Z",
     "iopub.status.busy": "2024-07-21T13:26:47.839963Z",
     "iopub.status.idle": "2024-07-21T13:26:47.847321Z",
     "shell.execute_reply": "2024-07-21T13:26:47.846116Z"
    },
    "papermill": {
     "duration": 0.023551,
     "end_time": "2024-07-21T13:26:47.849709",
     "exception": false,
     "start_time": "2024-07-21T13:26:47.826158",
     "status": "completed"
    },
    "tags": []
   },
   "outputs": [
    {
     "data": {
      "text/plain": [
       "(99457, 11)"
      ]
     },
     "execution_count": 7,
     "metadata": {},
     "output_type": "execute_result"
    }
   ],
   "source": [
    "df.shape"
   ]
  },
  {
   "cell_type": "code",
   "execution_count": 8,
   "id": "11b090fd",
   "metadata": {
    "execution": {
     "iopub.execute_input": "2024-07-21T13:26:47.876609Z",
     "iopub.status.busy": "2024-07-21T13:26:47.876218Z",
     "iopub.status.idle": "2024-07-21T13:26:47.933633Z",
     "shell.execute_reply": "2024-07-21T13:26:47.931160Z"
    },
    "papermill": {
     "duration": 0.074366,
     "end_time": "2024-07-21T13:26:47.936656",
     "exception": false,
     "start_time": "2024-07-21T13:26:47.862290",
     "status": "completed"
    },
    "tags": []
   },
   "outputs": [
    {
     "name": "stdout",
     "output_type": "stream",
     "text": [
      "<class 'pandas.core.frame.DataFrame'>\n",
      "RangeIndex: 99457 entries, 0 to 99456\n",
      "Data columns (total 11 columns):\n",
      " #   Column          Non-Null Count  Dtype  \n",
      "---  ------          --------------  -----  \n",
      " 0   invoice_no      99457 non-null  object \n",
      " 1   customer_id     99457 non-null  object \n",
      " 2   gender          99457 non-null  object \n",
      " 3   age             99457 non-null  int64  \n",
      " 4   category        99457 non-null  object \n",
      " 5   quantity        99457 non-null  int64  \n",
      " 6   price           99457 non-null  float64\n",
      " 7   payment_method  99457 non-null  object \n",
      " 8   invoice_date    99457 non-null  object \n",
      " 9   shopping_mall   99457 non-null  object \n",
      " 10  revenue         99457 non-null  float64\n",
      "dtypes: float64(2), int64(2), object(7)\n",
      "memory usage: 8.3+ MB\n"
     ]
    }
   ],
   "source": [
    "df.info()"
   ]
  },
  {
   "cell_type": "code",
   "execution_count": 9,
   "id": "9640b858",
   "metadata": {
    "execution": {
     "iopub.execute_input": "2024-07-21T13:26:47.965280Z",
     "iopub.status.busy": "2024-07-21T13:26:47.964121Z",
     "iopub.status.idle": "2024-07-21T13:26:47.973888Z",
     "shell.execute_reply": "2024-07-21T13:26:47.971736Z"
    },
    "papermill": {
     "duration": 0.02735,
     "end_time": "2024-07-21T13:26:47.977014",
     "exception": false,
     "start_time": "2024-07-21T13:26:47.949664",
     "status": "completed"
    },
    "tags": []
   },
   "outputs": [
    {
     "data": {
      "text/plain": [
       "invoice_no         object\n",
       "customer_id        object\n",
       "gender             object\n",
       "age                 int64\n",
       "category           object\n",
       "quantity            int64\n",
       "price             float64\n",
       "payment_method     object\n",
       "invoice_date       object\n",
       "shopping_mall      object\n",
       "revenue           float64\n",
       "dtype: object"
      ]
     },
     "execution_count": 9,
     "metadata": {},
     "output_type": "execute_result"
    }
   ],
   "source": [
    "df.dtypes"
   ]
  },
  {
   "cell_type": "code",
   "execution_count": 10,
   "id": "5eb1a282",
   "metadata": {
    "execution": {
     "iopub.execute_input": "2024-07-21T13:26:48.004361Z",
     "iopub.status.busy": "2024-07-21T13:26:48.003945Z",
     "iopub.status.idle": "2024-07-21T13:26:48.265159Z",
     "shell.execute_reply": "2024-07-21T13:26:48.264019Z"
    },
    "papermill": {
     "duration": 0.277595,
     "end_time": "2024-07-21T13:26:48.267661",
     "exception": false,
     "start_time": "2024-07-21T13:26:47.990066",
     "status": "completed"
    },
    "tags": []
   },
   "outputs": [],
   "source": [
    "df.invoice_date = pd.to_datetime(df.invoice_date,dayfirst=True)"
   ]
  },
  {
   "cell_type": "code",
   "execution_count": 11,
   "id": "9ff3d591",
   "metadata": {
    "execution": {
     "iopub.execute_input": "2024-07-21T13:26:48.296369Z",
     "iopub.status.busy": "2024-07-21T13:26:48.295935Z",
     "iopub.status.idle": "2024-07-21T13:26:48.399451Z",
     "shell.execute_reply": "2024-07-21T13:26:48.398117Z"
    },
    "papermill": {
     "duration": 0.120049,
     "end_time": "2024-07-21T13:26:48.401813",
     "exception": false,
     "start_time": "2024-07-21T13:26:48.281764",
     "status": "completed"
    },
    "tags": []
   },
   "outputs": [
    {
     "name": "stdout",
     "output_type": "stream",
     "text": [
      "invoice_no ['I138884' 'I317333' 'I127801' ... 'I824010' 'I702964' 'I232867']\n",
      "customer_id ['C241288' 'C111565' 'C266599' ... 'C103292' 'C800631' 'C273973']\n",
      "gender ['Female' 'Male']\n",
      "category ['Clothing' 'Shoes' 'Books' 'Cosmetics' 'Food & Beverage' 'Toys'\n",
      " 'Technology' 'Souvenir']\n",
      "payment_method ['Credit Card' 'Debit Card' 'Cash']\n",
      "shopping_mall ['Kanyon' 'Forum Istanbul' 'Metrocity' 'Metropol AVM' 'Istinye Park'\n",
      " 'Mall of Istanbul' 'Emaar Square Mall' 'Cevahir AVM' 'Viaport Outlet'\n",
      " 'Zorlu Center']\n"
     ]
    }
   ],
   "source": [
    "for col in df.select_dtypes(include='object').columns:\n",
    "    print(col,df[col].unique())"
   ]
  },
  {
   "cell_type": "code",
   "execution_count": 12,
   "id": "1a45d53b",
   "metadata": {
    "execution": {
     "iopub.execute_input": "2024-07-21T13:26:48.428589Z",
     "iopub.status.busy": "2024-07-21T13:26:48.428199Z",
     "iopub.status.idle": "2024-07-21T13:26:48.947857Z",
     "shell.execute_reply": "2024-07-21T13:26:48.945897Z"
    },
    "papermill": {
     "duration": 0.536252,
     "end_time": "2024-07-21T13:26:48.950586",
     "exception": false,
     "start_time": "2024-07-21T13:26:48.414334",
     "status": "completed"
    },
    "tags": []
   },
   "outputs": [
    {
     "data": {
      "text/plain": [
       "<Axes: xlabel='count', ylabel='shopping_mall'>"
      ]
     },
     "execution_count": 12,
     "metadata": {},
     "output_type": "execute_result"
    },
    {
     "data": {
      "image/png": "[encoded data removed]",
      "text/plain": [
       "<Figure size 640x480 with 1 Axes>"
      ]
     },
     "metadata": {},
     "output_type": "display_data"
    }
   ],
   "source": [
    "sns.countplot(data=df,y='shopping_mall',hue='gender')"
   ]
  },
  {
   "cell_type": "code",
   "execution_count": 13,
   "id": "a2603393",
   "metadata": {
    "execution": {
     "iopub.execute_input": "2024-07-21T13:26:48.983113Z",
     "iopub.status.busy": "2024-07-21T13:26:48.982732Z",
     "iopub.status.idle": "2024-07-21T13:26:48.987617Z",
     "shell.execute_reply": "2024-07-21T13:26:48.986527Z"
    },
    "papermill": {
     "duration": 0.024881,
     "end_time": "2024-07-21T13:26:48.989957",
     "exception": false,
     "start_time": "2024-07-21T13:26:48.965076",
     "status": "completed"
    },
    "tags": []
   },
   "outputs": [],
   "source": [
    "#kanyon , istanbul, metrocity malls having more customers than others \n",
    "#females were ahead in every mall !"
   ]
  },
  {
   "cell_type": "code",
   "execution_count": 14,
   "id": "983599bb",
   "metadata": {
    "execution": {
     "iopub.execute_input": "2024-07-21T13:26:49.019227Z",
     "iopub.status.busy": "2024-07-21T13:26:49.018834Z",
     "iopub.status.idle": "2024-07-21T13:26:49.488842Z",
     "shell.execute_reply": "2024-07-21T13:26:49.487763Z"
    },
    "papermill": {
     "duration": 0.487337,
     "end_time": "2024-07-21T13:26:49.491435",
     "exception": false,
     "start_time": "2024-07-21T13:26:49.004098",
     "status": "completed"
    },
    "tags": []
   },
   "outputs": [
    {
     "data": {
      "text/plain": [
       "<Axes: xlabel='category', ylabel='count'>"
      ]
     },
     "execution_count": 14,
     "metadata": {},
     "output_type": "execute_result"
    },
    {
     "data": {
      "image/png": "[encoded data removed]",
      "text/plain": [
       "<Figure size 1000x500 with 1 Axes>"
      ]
     },
     "metadata": {},
     "output_type": "display_data"
    }
   ],
   "source": [
    "plt.figure(figsize=(10,5))\n",
    "sns.countplot(data=df,x='category',hue='gender')"
   ]
  },
  {
   "cell_type": "code",
   "execution_count": 15,
   "id": "615c052d",
   "metadata": {
    "execution": {
     "iopub.execute_input": "2024-07-21T13:26:49.521794Z",
     "iopub.status.busy": "2024-07-21T13:26:49.521052Z",
     "iopub.status.idle": "2024-07-21T13:26:49.525708Z",
     "shell.execute_reply": "2024-07-21T13:26:49.524719Z"
    },
    "papermill": {
     "duration": 0.022082,
     "end_time": "2024-07-21T13:26:49.527990",
     "exception": false,
     "start_time": "2024-07-21T13:26:49.505908",
     "status": "completed"
    },
    "tags": []
   },
   "outputs": [],
   "source": [
    "# except clothing both male & females follow some patterns and females bought everything more than males!"
   ]
  },
  {
   "cell_type": "code",
   "execution_count": 16,
   "id": "ad852374",
   "metadata": {
    "execution": {
     "iopub.execute_input": "2024-07-21T13:26:49.558220Z",
     "iopub.status.busy": "2024-07-21T13:26:49.557819Z",
     "iopub.status.idle": "2024-07-21T13:26:50.011044Z",
     "shell.execute_reply": "2024-07-21T13:26:50.009705Z"
    },
    "papermill": {
     "duration": 0.471843,
     "end_time": "2024-07-21T13:26:50.014357",
     "exception": false,
     "start_time": "2024-07-21T13:26:49.542514",
     "status": "completed"
    },
    "tags": []
   },
   "outputs": [
    {
     "data": {
      "text/plain": [
       "<Axes: xlabel='shopping_mall'>"
      ]
     },
     "execution_count": 16,
     "metadata": {},
     "output_type": "execute_result"
    },
    {
     "data": {
      "image/png": "[encoded data removed]",
      "text/plain": [
       "<Figure size 1000x600 with 1 Axes>"
      ]
     },
     "metadata": {},
     "output_type": "display_data"
    }
   ],
   "source": [
    "pd.crosstab(df['shopping_mall'],df['category']).plot(figsize=(10,6))"
   ]
  },
  {
   "cell_type": "code",
   "execution_count": 17,
   "id": "6d6b22aa",
   "metadata": {
    "execution": {
     "iopub.execute_input": "2024-07-21T13:26:50.047947Z",
     "iopub.status.busy": "2024-07-21T13:26:50.047141Z",
     "iopub.status.idle": "2024-07-21T13:26:50.061235Z",
     "shell.execute_reply": "2024-07-21T13:26:50.051949Z"
    },
    "papermill": {
     "duration": 0.034636,
     "end_time": "2024-07-21T13:26:50.064909",
     "exception": false,
     "start_time": "2024-07-21T13:26:50.030273",
     "status": "completed"
    },
    "tags": []
   },
   "outputs": [],
   "source": [
    "#apart the catgory 'clothing' , many products atmost follow the same pattersn along diff malls!"
   ]
  },
  {
   "cell_type": "code",
   "execution_count": 18,
   "id": "b91030a0",
   "metadata": {
    "execution": {
     "iopub.execute_input": "2024-07-21T13:26:50.109411Z",
     "iopub.status.busy": "2024-07-21T13:26:50.108887Z",
     "iopub.status.idle": "2024-07-21T13:26:50.727452Z",
     "shell.execute_reply": "2024-07-21T13:26:50.726347Z"
    },
    "papermill": {
     "duration": 0.644467,
     "end_time": "2024-07-21T13:26:50.729807",
     "exception": false,
     "start_time": "2024-07-21T13:26:50.085340",
     "status": "completed"
    },
    "tags": []
   },
   "outputs": [
    {
     "data": {
      "text/plain": [
       "<Axes: xlabel='shopping_mall'>"
      ]
     },
     "execution_count": 18,
     "metadata": {},
     "output_type": "execute_result"
    },
    {
     "data": {
      "image/png": "[encoded data removed]",
      "text/plain": [
       "<Figure size 1000x600 with 1 Axes>"
      ]
     },
     "metadata": {},
     "output_type": "display_data"
    }
   ],
   "source": [
    "df.groupby(['shopping_mall','category']).size().unstack(fill_value=0).plot(kind='bar',stacked=True,figsize=(10,6))"
   ]
  },
  {
   "cell_type": "code",
   "execution_count": 19,
   "id": "e2ba5a01",
   "metadata": {
    "execution": {
     "iopub.execute_input": "2024-07-21T13:26:50.766311Z",
     "iopub.status.busy": "2024-07-21T13:26:50.765523Z",
     "iopub.status.idle": "2024-07-21T13:26:50.806293Z",
     "shell.execute_reply": "2024-07-21T13:26:50.805068Z"
    },
    "papermill": {
     "duration": 0.06129,
     "end_time": "2024-07-21T13:26:50.808851",
     "exception": false,
     "start_time": "2024-07-21T13:26:50.747561",
     "status": "completed"
    },
    "tags": []
   },
   "outputs": [
    {
     "data": {
      "text/html": [
       "<div>\n",
       "<style scoped>\n",
       "    .dataframe tbody tr th:only-of-type {\n",
       "        vertical-align: middle;\n",
       "    }\n",
       "\n",
       "    .dataframe tbody tr th {\n",
       "        vertical-align: top;\n",
       "    }\n",
       "\n",
       "    .dataframe thead th {\n",
       "        text-align: right;\n",
       "    }\n",
       "</style>\n",
       "<table border=\"1\" class=\"dataframe\">\n",
       "  <thead>\n",
       "    <tr style=\"text-align: right;\">\n",
       "      <th></th>\n",
       "      <th>Category</th>\n",
       "    </tr>\n",
       "    <tr>\n",
       "      <th>shopping_mall</th>\n",
       "      <th></th>\n",
       "    </tr>\n",
       "  </thead>\n",
       "  <tbody>\n",
       "    <tr>\n",
       "      <th>Cevahir AVM</th>\n",
       "      <td>Souvenir</td>\n",
       "    </tr>\n",
       "    <tr>\n",
       "      <th>Emaar Square Mall</th>\n",
       "      <td>Books</td>\n",
       "    </tr>\n",
       "    <tr>\n",
       "      <th>Forum Istanbul</th>\n",
       "      <td>Technology</td>\n",
       "    </tr>\n",
       "    <tr>\n",
       "      <th>Istinye Park</th>\n",
       "      <td>Books</td>\n",
       "    </tr>\n",
       "    <tr>\n",
       "      <th>Kanyon</th>\n",
       "      <td>Technology</td>\n",
       "    </tr>\n",
       "    <tr>\n",
       "      <th>Mall of Istanbul</th>\n",
       "      <td>Souvenir</td>\n",
       "    </tr>\n",
       "    <tr>\n",
       "      <th>Metrocity</th>\n",
       "      <td>Souvenir</td>\n",
       "    </tr>\n",
       "    <tr>\n",
       "      <th>Metropol AVM</th>\n",
       "      <td>Technology</td>\n",
       "    </tr>\n",
       "    <tr>\n",
       "      <th>Viaport Outlet</th>\n",
       "      <td>Souvenir</td>\n",
       "    </tr>\n",
       "    <tr>\n",
       "      <th>Zorlu Center</th>\n",
       "      <td>Technology</td>\n",
       "    </tr>\n",
       "  </tbody>\n",
       "</table>\n",
       "</div>"
      ],
      "text/plain": [
       "                     Category\n",
       "shopping_mall                \n",
       "Cevahir AVM          Souvenir\n",
       "Emaar Square Mall       Books\n",
       "Forum Istanbul     Technology\n",
       "Istinye Park            Books\n",
       "Kanyon             Technology\n",
       "Mall of Istanbul     Souvenir\n",
       "Metrocity            Souvenir\n",
       "Metropol AVM       Technology\n",
       "Viaport Outlet       Souvenir\n",
       "Zorlu Center       Technology"
      ]
     },
     "execution_count": 19,
     "metadata": {},
     "output_type": "execute_result"
    }
   ],
   "source": [
    "pd.DataFrame(pd.crosstab(df['category'],df['shopping_mall']).idxmin(),columns=['Category'])"
   ]
  },
  {
   "cell_type": "code",
   "execution_count": 20,
   "id": "c9de94e0",
   "metadata": {
    "execution": {
     "iopub.execute_input": "2024-07-21T13:26:50.844729Z",
     "iopub.status.busy": "2024-07-21T13:26:50.844333Z",
     "iopub.status.idle": "2024-07-21T13:26:50.885007Z",
     "shell.execute_reply": "2024-07-21T13:26:50.883830Z"
    },
    "papermill": {
     "duration": 0.061182,
     "end_time": "2024-07-21T13:26:50.887483",
     "exception": false,
     "start_time": "2024-07-21T13:26:50.826301",
     "status": "completed"
    },
    "tags": []
   },
   "outputs": [
    {
     "data": {
      "text/html": [
       "<div>\n",
       "<style scoped>\n",
       "    .dataframe tbody tr th:only-of-type {\n",
       "        vertical-align: middle;\n",
       "    }\n",
       "\n",
       "    .dataframe tbody tr th {\n",
       "        vertical-align: top;\n",
       "    }\n",
       "\n",
       "    .dataframe thead th {\n",
       "        text-align: right;\n",
       "    }\n",
       "</style>\n",
       "<table border=\"1\" class=\"dataframe\">\n",
       "  <thead>\n",
       "    <tr style=\"text-align: right;\">\n",
       "      <th></th>\n",
       "      <th>Mall</th>\n",
       "    </tr>\n",
       "    <tr>\n",
       "      <th>category</th>\n",
       "      <th></th>\n",
       "    </tr>\n",
       "  </thead>\n",
       "  <tbody>\n",
       "    <tr>\n",
       "      <th>Books</th>\n",
       "      <td>Mall of Istanbul</td>\n",
       "    </tr>\n",
       "    <tr>\n",
       "      <th>Clothing</th>\n",
       "      <td>Mall of Istanbul</td>\n",
       "    </tr>\n",
       "    <tr>\n",
       "      <th>Cosmetics</th>\n",
       "      <td>Mall of Istanbul</td>\n",
       "    </tr>\n",
       "    <tr>\n",
       "      <th>Food &amp; Beverage</th>\n",
       "      <td>Mall of Istanbul</td>\n",
       "    </tr>\n",
       "    <tr>\n",
       "      <th>Shoes</th>\n",
       "      <td>Mall of Istanbul</td>\n",
       "    </tr>\n",
       "    <tr>\n",
       "      <th>Souvenir</th>\n",
       "      <td>Kanyon</td>\n",
       "    </tr>\n",
       "    <tr>\n",
       "      <th>Technology</th>\n",
       "      <td>Mall of Istanbul</td>\n",
       "    </tr>\n",
       "    <tr>\n",
       "      <th>Toys</th>\n",
       "      <td>Mall of Istanbul</td>\n",
       "    </tr>\n",
       "  </tbody>\n",
       "</table>\n",
       "</div>"
      ],
      "text/plain": [
       "                             Mall\n",
       "category                         \n",
       "Books            Mall of Istanbul\n",
       "Clothing         Mall of Istanbul\n",
       "Cosmetics        Mall of Istanbul\n",
       "Food & Beverage  Mall of Istanbul\n",
       "Shoes            Mall of Istanbul\n",
       "Souvenir                   Kanyon\n",
       "Technology       Mall of Istanbul\n",
       "Toys             Mall of Istanbul"
      ]
     },
     "execution_count": 20,
     "metadata": {},
     "output_type": "execute_result"
    }
   ],
   "source": [
    "pd.DataFrame(pd.crosstab(df['shopping_mall'],df['category']).idxmax(),columns=['Mall'])"
   ]
  },
  {
   "cell_type": "code",
   "execution_count": 21,
   "id": "9e480ca5",
   "metadata": {
    "execution": {
     "iopub.execute_input": "2024-07-21T13:26:50.924150Z",
     "iopub.status.busy": "2024-07-21T13:26:50.923783Z",
     "iopub.status.idle": "2024-07-21T13:26:50.928697Z",
     "shell.execute_reply": "2024-07-21T13:26:50.927463Z"
    },
    "papermill": {
     "duration": 0.026242,
     "end_time": "2024-07-21T13:26:50.930951",
     "exception": false,
     "start_time": "2024-07-21T13:26:50.904709",
     "status": "completed"
    },
    "tags": []
   },
   "outputs": [],
   "source": [
    "#Clothing is the most sold one by every malls & Looking that Souvenir was popular in Kanyon from other cities.\n"
   ]
  },
  {
   "cell_type": "code",
   "execution_count": 22,
   "id": "de7c3b46",
   "metadata": {
    "execution": {
     "iopub.execute_input": "2024-07-21T13:26:50.969176Z",
     "iopub.status.busy": "2024-07-21T13:26:50.968820Z",
     "iopub.status.idle": "2024-07-21T13:26:51.259517Z",
     "shell.execute_reply": "2024-07-21T13:26:51.258297Z"
    },
    "papermill": {
     "duration": 0.313223,
     "end_time": "2024-07-21T13:26:51.262171",
     "exception": false,
     "start_time": "2024-07-21T13:26:50.948948",
     "status": "completed"
    },
    "tags": []
   },
   "outputs": [
    {
     "data": {
      "text/plain": [
       "<Axes: xlabel='payment_method', ylabel='Count'>"
      ]
     },
     "execution_count": 22,
     "metadata": {},
     "output_type": "execute_result"
    },
    {
     "data": {
      "image/png": "[encoded data removed]",
      "text/plain": [
       "<Figure size 640x480 with 1 Axes>"
      ]
     },
     "metadata": {},
     "output_type": "display_data"
    }
   ],
   "source": [
    "sns.histplot(data=df,x='payment_method')"
   ]
  },
  {
   "cell_type": "code",
   "execution_count": 23,
   "id": "ce180e79",
   "metadata": {
    "execution": {
     "iopub.execute_input": "2024-07-21T13:26:51.359269Z",
     "iopub.status.busy": "2024-07-21T13:26:51.358869Z",
     "iopub.status.idle": "2024-07-21T13:26:51.721248Z",
     "shell.execute_reply": "2024-07-21T13:26:51.719945Z"
    },
    "papermill": {
     "duration": 0.443716,
     "end_time": "2024-07-21T13:26:51.723700",
     "exception": false,
     "start_time": "2024-07-21T13:26:51.279984",
     "status": "completed"
    },
    "tags": []
   },
   "outputs": [
    {
     "data": {
      "text/plain": [
       "<Axes: xlabel='shopping_mall'>"
      ]
     },
     "execution_count": 23,
     "metadata": {},
     "output_type": "execute_result"
    },
    {
     "data": {
      "image/png": "[encoded data removed]",
      "text/plain": [
       "<Figure size 640x480 with 1 Axes>"
      ]
     },
     "metadata": {},
     "output_type": "display_data"
    }
   ],
   "source": [
    "pd.crosstab(df['shopping_mall'],df['payment_method']).plot(kind='bar')"
   ]
  },
  {
   "cell_type": "code",
   "execution_count": 24,
   "id": "99171c74",
   "metadata": {
    "execution": {
     "iopub.execute_input": "2024-07-21T13:26:51.763524Z",
     "iopub.status.busy": "2024-07-21T13:26:51.762530Z",
     "iopub.status.idle": "2024-07-21T13:26:51.773767Z",
     "shell.execute_reply": "2024-07-21T13:26:51.772572Z"
    },
    "papermill": {
     "duration": 0.033944,
     "end_time": "2024-07-21T13:26:51.776347",
     "exception": false,
     "start_time": "2024-07-21T13:26:51.742403",
     "status": "completed"
    },
    "tags": []
   },
   "outputs": [],
   "source": [
    "#everything is same across the malls -> cash,credit,debit\n",
    "df['month'] = df.invoice_date.dt.month"
   ]
  },
  {
   "cell_type": "code",
   "execution_count": 25,
   "id": "a6059d1c",
   "metadata": {
    "execution": {
     "iopub.execute_input": "2024-07-21T13:26:51.815729Z",
     "iopub.status.busy": "2024-07-21T13:26:51.815346Z",
     "iopub.status.idle": "2024-07-21T13:26:52.129789Z",
     "shell.execute_reply": "2024-07-21T13:26:52.128293Z"
    },
    "papermill": {
     "duration": 0.337285,
     "end_time": "2024-07-21T13:26:52.132206",
     "exception": false,
     "start_time": "2024-07-21T13:26:51.794921",
     "status": "completed"
    },
    "tags": []
   },
   "outputs": [
    {
     "data": {
      "text/plain": [
       "<Axes: xlabel='month'>"
      ]
     },
     "execution_count": 25,
     "metadata": {},
     "output_type": "execute_result"
    },
    {
     "data": {
      "image/png": "[encoded data removed]",
      "text/plain": [
       "<Figure size 1700x700 with 1 Axes>"
      ]
     },
     "metadata": {},
     "output_type": "display_data"
    }
   ],
   "source": [
    "df[df['shopping_mall']=='Mall of Istanbul'].groupby(['month'])['revenue'].sum().plot(figsize=(17,7))"
   ]
  },
  {
   "cell_type": "code",
   "execution_count": 26,
   "id": "7ee3e625",
   "metadata": {
    "execution": {
     "iopub.execute_input": "2024-07-21T13:26:52.174200Z",
     "iopub.status.busy": "2024-07-21T13:26:52.173778Z",
     "iopub.status.idle": "2024-07-21T13:26:52.189830Z",
     "shell.execute_reply": "2024-07-21T13:26:52.188731Z"
    },
    "papermill": {
     "duration": 0.039763,
     "end_time": "2024-07-21T13:26:52.192402",
     "exception": false,
     "start_time": "2024-07-21T13:26:52.152639",
     "status": "completed"
    },
    "tags": []
   },
   "outputs": [
    {
     "data": {
      "text/html": [
       "<div>\n",
       "<style scoped>\n",
       "    .dataframe tbody tr th:only-of-type {\n",
       "        vertical-align: middle;\n",
       "    }\n",
       "\n",
       "    .dataframe tbody tr th {\n",
       "        vertical-align: top;\n",
       "    }\n",
       "\n",
       "    .dataframe thead th {\n",
       "        text-align: right;\n",
       "    }\n",
       "</style>\n",
       "<table border=\"1\" class=\"dataframe\">\n",
       "  <thead>\n",
       "    <tr style=\"text-align: right;\">\n",
       "      <th></th>\n",
       "      <th>invoice_no</th>\n",
       "      <th>customer_id</th>\n",
       "      <th>gender</th>\n",
       "      <th>age</th>\n",
       "      <th>category</th>\n",
       "      <th>quantity</th>\n",
       "      <th>price</th>\n",
       "      <th>payment_method</th>\n",
       "      <th>invoice_date</th>\n",
       "      <th>shopping_mall</th>\n",
       "      <th>revenue</th>\n",
       "      <th>month</th>\n",
       "    </tr>\n",
       "  </thead>\n",
       "  <tbody>\n",
       "    <tr>\n",
       "      <th>0</th>\n",
       "      <td>I138884</td>\n",
       "      <td>C241288</td>\n",
       "      <td>Female</td>\n",
       "      <td>28</td>\n",
       "      <td>Clothing</td>\n",
       "      <td>5</td>\n",
       "      <td>1500.40</td>\n",
       "      <td>Credit Card</td>\n",
       "      <td>2022-08-05</td>\n",
       "      <td>Kanyon</td>\n",
       "      <td>7502.00</td>\n",
       "      <td>8</td>\n",
       "    </tr>\n",
       "    <tr>\n",
       "      <th>1</th>\n",
       "      <td>I317333</td>\n",
       "      <td>C111565</td>\n",
       "      <td>Male</td>\n",
       "      <td>21</td>\n",
       "      <td>Shoes</td>\n",
       "      <td>3</td>\n",
       "      <td>1800.51</td>\n",
       "      <td>Debit Card</td>\n",
       "      <td>2021-12-12</td>\n",
       "      <td>Forum Istanbul</td>\n",
       "      <td>5401.53</td>\n",
       "      <td>12</td>\n",
       "    </tr>\n",
       "  </tbody>\n",
       "</table>\n",
       "</div>"
      ],
      "text/plain": [
       "  invoice_no customer_id  gender  age  category  quantity    price  \\\n",
       "0    I138884     C241288  Female   28  Clothing         5  1500.40   \n",
       "1    I317333     C111565    Male   21     Shoes         3  1800.51   \n",
       "\n",
       "  payment_method invoice_date   shopping_mall  revenue  month  \n",
       "0    Credit Card   2022-08-05          Kanyon  7502.00      8  \n",
       "1     Debit Card   2021-12-12  Forum Istanbul  5401.53     12  "
      ]
     },
     "execution_count": 26,
     "metadata": {},
     "output_type": "execute_result"
    }
   ],
   "source": [
    "#looks start of the year has some great base (in the birth of new year)\n",
    "#now enter into customer analysis\n",
    "#by RFM.\n",
    "df.head(2)"
   ]
  },
  {
   "cell_type": "code",
   "execution_count": 27,
   "id": "21b4182e",
   "metadata": {
    "execution": {
     "iopub.execute_input": "2024-07-21T13:26:52.233742Z",
     "iopub.status.busy": "2024-07-21T13:26:52.233357Z",
     "iopub.status.idle": "2024-07-21T13:27:02.831082Z",
     "shell.execute_reply": "2024-07-21T13:27:02.829951Z"
    },
    "papermill": {
     "duration": 10.62187,
     "end_time": "2024-07-21T13:27:02.833969",
     "exception": false,
     "start_time": "2024-07-21T13:26:52.212099",
     "status": "completed"
    },
    "tags": []
   },
   "outputs": [],
   "source": [
    "max_date = df.invoice_date.max()\n",
    "recency = pd.DataFrame(df.groupby(['customer_id'])['invoice_date'].agg(lambda x: (max_date-x.min()).days))"
   ]
  },
  {
   "cell_type": "code",
   "execution_count": 28,
   "id": "20cea7fa",
   "metadata": {
    "execution": {
     "iopub.execute_input": "2024-07-21T13:27:02.875992Z",
     "iopub.status.busy": "2024-07-21T13:27:02.875581Z",
     "iopub.status.idle": "2024-07-21T13:27:02.881275Z",
     "shell.execute_reply": "2024-07-21T13:27:02.880049Z"
    },
    "papermill": {
     "duration": 0.029486,
     "end_time": "2024-07-21T13:27:02.883945",
     "exception": false,
     "start_time": "2024-07-21T13:27:02.854459",
     "status": "completed"
    },
    "tags": []
   },
   "outputs": [],
   "source": [
    "recency.columns =['Days']"
   ]
  },
  {
   "cell_type": "code",
   "execution_count": 29,
   "id": "dcc9d7cc",
   "metadata": {
    "execution": {
     "iopub.execute_input": "2024-07-21T13:27:02.925748Z",
     "iopub.status.busy": "2024-07-21T13:27:02.925324Z",
     "iopub.status.idle": "2024-07-21T13:27:03.088528Z",
     "shell.execute_reply": "2024-07-21T13:27:03.087268Z"
    },
    "papermill": {
     "duration": 0.18714,
     "end_time": "2024-07-21T13:27:03.091200",
     "exception": false,
     "start_time": "2024-07-21T13:27:02.904060",
     "status": "completed"
    },
    "tags": []
   },
   "outputs": [],
   "source": [
    "frequency = pd.DataFrame(df.groupby(['customer_id'])['quantity'].count())\n",
    "frequency.columns = ['frequency']"
   ]
  },
  {
   "cell_type": "code",
   "execution_count": 30,
   "id": "0f9a6153",
   "metadata": {
    "execution": {
     "iopub.execute_input": "2024-07-21T13:27:03.135163Z",
     "iopub.status.busy": "2024-07-21T13:27:03.134105Z",
     "iopub.status.idle": "2024-07-21T13:27:03.293019Z",
     "shell.execute_reply": "2024-07-21T13:27:03.291361Z"
    },
    "papermill": {
     "duration": 0.183999,
     "end_time": "2024-07-21T13:27:03.295875",
     "exception": false,
     "start_time": "2024-07-21T13:27:03.111876",
     "status": "completed"
    },
    "tags": []
   },
   "outputs": [],
   "source": [
    "monetary = pd.DataFrame(df.groupby(['customer_id'])['revenue'].sum())\n",
    "monetary.columns=['monetary']"
   ]
  },
  {
   "cell_type": "code",
   "execution_count": 31,
   "id": "b4f7e80e",
   "metadata": {
    "execution": {
     "iopub.execute_input": "2024-07-21T13:27:03.339426Z",
     "iopub.status.busy": "2024-07-21T13:27:03.338991Z",
     "iopub.status.idle": "2024-07-21T13:27:03.371301Z",
     "shell.execute_reply": "2024-07-21T13:27:03.369649Z"
    },
    "papermill": {
     "duration": 0.056035,
     "end_time": "2024-07-21T13:27:03.373762",
     "exception": false,
     "start_time": "2024-07-21T13:27:03.317727",
     "status": "completed"
    },
    "tags": []
   },
   "outputs": [
    {
     "data": {
      "text/plain": [
       "99457"
      ]
     },
     "execution_count": 31,
     "metadata": {},
     "output_type": "execute_result"
    }
   ],
   "source": [
    "df['customer_id'].nunique()"
   ]
  },
  {
   "cell_type": "code",
   "execution_count": 32,
   "id": "96c79dba",
   "metadata": {
    "execution": {
     "iopub.execute_input": "2024-07-21T13:27:03.416037Z",
     "iopub.status.busy": "2024-07-21T13:27:03.415125Z",
     "iopub.status.idle": "2024-07-21T13:27:03.475518Z",
     "shell.execute_reply": "2024-07-21T13:27:03.474338Z"
    },
    "papermill": {
     "duration": 0.08466,
     "end_time": "2024-07-21T13:27:03.478309",
     "exception": false,
     "start_time": "2024-07-21T13:27:03.393649",
     "status": "completed"
    },
    "tags": []
   },
   "outputs": [],
   "source": [
    "rfm = pd.concat([recency,frequency,monetary],axis=1)"
   ]
  },
  {
   "cell_type": "code",
   "execution_count": 33,
   "id": "6b13c3a2",
   "metadata": {
    "execution": {
     "iopub.execute_input": "2024-07-21T13:27:03.521394Z",
     "iopub.status.busy": "2024-07-21T13:27:03.520985Z",
     "iopub.status.idle": "2024-07-21T13:27:03.535853Z",
     "shell.execute_reply": "2024-07-21T13:27:03.534581Z"
    },
    "papermill": {
     "duration": 0.040689,
     "end_time": "2024-07-21T13:27:03.538812",
     "exception": false,
     "start_time": "2024-07-21T13:27:03.498123",
     "status": "completed"
    },
    "tags": []
   },
   "outputs": [],
   "source": [
    "sc = StandardScaler()\n",
    "rfm = sc.fit_transform(rfm)"
   ]
  },
  {
   "cell_type": "code",
   "execution_count": 34,
   "id": "60c47a43",
   "metadata": {
    "execution": {
     "iopub.execute_input": "2024-07-21T13:27:03.581814Z",
     "iopub.status.busy": "2024-07-21T13:27:03.581417Z",
     "iopub.status.idle": "2024-07-21T13:27:03.589728Z",
     "shell.execute_reply": "2024-07-21T13:27:03.588526Z"
    },
    "papermill": {
     "duration": 0.033657,
     "end_time": "2024-07-21T13:27:03.592487",
     "exception": false,
     "start_time": "2024-07-21T13:27:03.558830",
     "status": "completed"
    },
    "tags": []
   },
   "outputs": [
    {
     "data": {
      "text/plain": [
       "array([[ 0.30502419,  0.        ,  1.17780089],\n",
       "       [-1.70480575,  0.        , -0.03034   ],\n",
       "       [-1.30457987,  0.        , -0.52249923],\n",
       "       [ 0.75310316,  0.        , -0.56792542],\n",
       "       [ 0.84445906,  0.        , -0.59040287]])"
      ]
     },
     "execution_count": 34,
     "metadata": {},
     "output_type": "execute_result"
    }
   ],
   "source": [
    "rfm[:5]"
   ]
  },
  {
   "cell_type": "code",
   "execution_count": 35,
   "id": "28741b90",
   "metadata": {
    "execution": {
     "iopub.execute_input": "2024-07-21T13:27:03.637056Z",
     "iopub.status.busy": "2024-07-21T13:27:03.636311Z",
     "iopub.status.idle": "2024-07-21T13:27:19.457064Z",
     "shell.execute_reply": "2024-07-21T13:27:19.456003Z"
    },
    "papermill": {
     "duration": 15.845614,
     "end_time": "2024-07-21T13:27:19.459605",
     "exception": false,
     "start_time": "2024-07-21T13:27:03.613991",
     "status": "completed"
    },
    "tags": []
   },
   "outputs": [],
   "source": [
    "inertia = []\n",
    "for i in range(1,11):\n",
    "    kmeans = KMeans(n_clusters=i)\n",
    "    kmeans.fit(rfm)\n",
    "    inertia.append(kmeans.inertia_)"
   ]
  },
  {
   "cell_type": "code",
   "execution_count": 36,
   "id": "7ea7e06e",
   "metadata": {
    "execution": {
     "iopub.execute_input": "2024-07-21T13:27:19.504516Z",
     "iopub.status.busy": "2024-07-21T13:27:19.504118Z",
     "iopub.status.idle": "2024-07-21T13:27:19.715151Z",
     "shell.execute_reply": "2024-07-21T13:27:19.713958Z"
    },
    "papermill": {
     "duration": 0.237617,
     "end_time": "2024-07-21T13:27:19.717502",
     "exception": false,
     "start_time": "2024-07-21T13:27:19.479885",
     "status": "completed"
    },
    "tags": []
   },
   "outputs": [
    {
     "data": {
      "text/plain": [
       "[<matplotlib.lines.Line2D at 0x7c37f15e4730>]"
      ]
     },
     "execution_count": 36,
     "metadata": {},
     "output_type": "execute_result"
    },
    {
     "data": {
      "image/png": "[encoded data removed]",
      "text/plain": [
       "<Figure size 640x480 with 1 Axes>"
      ]
     },
     "metadata": {},
     "output_type": "display_data"
    }
   ],
   "source": [
    "plt.plot(range(1,11),inertia) #elbow - > 3 cluster"
   ]
  },
  {
   "cell_type": "code",
   "execution_count": 37,
   "id": "dc5eb6a9",
   "metadata": {
    "execution": {
     "iopub.execute_input": "2024-07-21T13:27:19.761116Z",
     "iopub.status.busy": "2024-07-21T13:27:19.760016Z",
     "iopub.status.idle": "2024-07-21T13:27:21.250201Z",
     "shell.execute_reply": "2024-07-21T13:27:21.248967Z"
    },
    "papermill": {
     "duration": 1.514726,
     "end_time": "2024-07-21T13:27:21.252717",
     "exception": false,
     "start_time": "2024-07-21T13:27:19.737991",
     "status": "completed"
    },
    "tags": []
   },
   "outputs": [
    {
     "data": {
      "text/html": [
       "<style>#sk-container-id-1 {color: black;background-color: white;}#sk-container-id-1 pre{padding: 0;}#sk-container-id-1 div.sk-toggleable {background-color: white;}#sk-container-id-1 label.sk-toggleable__label {cursor: pointer;display: block;width: 100%;margin-bottom: 0;padding: 0.3em;box-sizing: border-box;text-align: center;}#sk-container-id-1 label.sk-toggleable__label-arrow:before {content: \"▸\";float: left;margin-right: 0.25em;color: #696969;}#sk-container-id-1 label.sk-toggleable__label-arrow:hover:before {color: black;}#sk-container-id-1 div.sk-estimator:hover label.sk-toggleable__label-arrow:before {color: black;}#sk-container-id-1 div.sk-toggleable__content {max-height: 0;max-width: 0;overflow: hidden;text-align: left;background-color: #f0f8ff;}#sk-container-id-1 div.sk-toggleable__content pre {margin: 0.2em;color: black;border-radius: 0.25em;background-color: #f0f8ff;}#sk-container-id-1 input.sk-toggleable__control:checked~div.sk-toggleable__content {max-height: 200px;max-width: 100%;overflow: auto;}#sk-container-id-1 input.sk-toggleable__control:checked~label.sk-toggleable__label-arrow:before {content: \"▾\";}#sk-container-id-1 div.sk-estimator input.sk-toggleable__control:checked~label.sk-toggleable__label {background-color: #d4ebff;}#sk-container-id-1 div.sk-label input.sk-toggleable__control:checked~label.sk-toggleable__label {background-color: #d4ebff;}#sk-container-id-1 input.sk-hidden--visually {border: 0;clip: rect(1px 1px 1px 1px);clip: rect(1px, 1px, 1px, 1px);height: 1px;margin: -1px;overflow: hidden;padding: 0;position: absolute;width: 1px;}#sk-container-id-1 div.sk-estimator {font-family: monospace;background-color: #f0f8ff;border: 1px dotted black;border-radius: 0.25em;box-sizing: border-box;margin-bottom: 0.5em;}#sk-container-id-1 div.sk-estimator:hover {background-color: #d4ebff;}#sk-container-id-1 div.sk-parallel-item::after {content: \"\";width: 100%;border-bottom: 1px solid gray;flex-grow: 1;}#sk-container-id-1 div.sk-label:hover label.sk-toggleable__label {background-color: #d4ebff;}#sk-container-id-1 div.sk-serial::before {content: \"\";position: absolute;border-left: 1px solid gray;box-sizing: border-box;top: 0;bottom: 0;left: 50%;z-index: 0;}#sk-container-id-1 div.sk-serial {display: flex;flex-direction: column;align-items: center;background-color: white;padding-right: 0.2em;padding-left: 0.2em;position: relative;}#sk-container-id-1 div.sk-item {position: relative;z-index: 1;}#sk-container-id-1 div.sk-parallel {display: flex;align-items: stretch;justify-content: center;background-color: white;position: relative;}#sk-container-id-1 div.sk-item::before, #sk-container-id-1 div.sk-parallel-item::before {content: \"\";position: absolute;border-left: 1px solid gray;box-sizing: border-box;top: 0;bottom: 0;left: 50%;z-index: -1;}#sk-container-id-1 div.sk-parallel-item {display: flex;flex-direction: column;z-index: 1;position: relative;background-color: white;}#sk-container-id-1 div.sk-parallel-item:first-child::after {align-self: flex-end;width: 50%;}#sk-container-id-1 div.sk-parallel-item:last-child::after {align-self: flex-start;width: 50%;}#sk-container-id-1 div.sk-parallel-item:only-child::after {width: 0;}#sk-container-id-1 div.sk-dashed-wrapped {border: 1px dashed gray;margin: 0 0.4em 0.5em 0.4em;box-sizing: border-box;padding-bottom: 0.4em;background-color: white;}#sk-container-id-1 div.sk-label label {font-family: monospace;font-weight: bold;display: inline-block;line-height: 1.2em;}#sk-container-id-1 div.sk-label-container {text-align: center;}#sk-container-id-1 div.sk-container {/* jupyter's `normalize.less` sets `[hidden] { display: none; }` but bootstrap.min.css set `[hidden] { display: none !important; }` so we also need the `!important` here to be able to override the default hidden behavior on the sphinx rendered scikit-learn.org. See: https://github.com/scikit-learn/scikit-learn/issues/21755 */display: inline-block !important;position: relative;}#sk-container-id-1 div.sk-text-repr-fallback {display: none;}</style><div id=\"sk-container-id-1\" class=\"sk-top-container\"><div class=\"sk-text-repr-fallback\"><pre>KMeans(n_clusters=3)</pre><b>In a Jupyter environment, please rerun this cell to show the HTML representation or trust the notebook. <br />On GitHub, the HTML representation is unable to render, please try loading this page with nbviewer.org.</b></div><div class=\"sk-container\" hidden><div class=\"sk-item\"><div class=\"sk-estimator sk-toggleable\"><input class=\"sk-toggleable__control sk-hidden--visually\" id=\"sk-estimator-id-1\" type=\"checkbox\" checked><label for=\"sk-estimator-id-1\" class=\"sk-toggleable__label sk-toggleable__label-arrow\">KMeans</label><div class=\"sk-toggleable__content\"><pre>KMeans(n_clusters=3)</pre></div></div></div></div></div>"
      ],
      "text/plain": [
       "KMeans(n_clusters=3)"
      ]
     },
     "execution_count": 37,
     "metadata": {},
     "output_type": "execute_result"
    }
   ],
   "source": [
    "kmeans = KMeans(n_clusters=3)\n",
    "kmeans.fit(rfm)\n"
   ]
  },
  {
   "cell_type": "code",
   "execution_count": 38,
   "id": "94b32a7c",
   "metadata": {
    "execution": {
     "iopub.execute_input": "2024-07-21T13:27:21.298837Z",
     "iopub.status.busy": "2024-07-21T13:27:21.298406Z",
     "iopub.status.idle": "2024-07-21T13:27:21.304417Z",
     "shell.execute_reply": "2024-07-21T13:27:21.303132Z"
    },
    "papermill": {
     "duration": 0.031552,
     "end_time": "2024-07-21T13:27:21.306794",
     "exception": false,
     "start_time": "2024-07-21T13:27:21.275242",
     "status": "completed"
    },
    "tags": []
   },
   "outputs": [],
   "source": [
    "cluster = kmeans.labels_"
   ]
  },
  {
   "cell_type": "code",
   "execution_count": 39,
   "id": "5682e621",
   "metadata": {
    "execution": {
     "iopub.execute_input": "2024-07-21T13:27:21.352796Z",
     "iopub.status.busy": "2024-07-21T13:27:21.352423Z",
     "iopub.status.idle": "2024-07-21T13:27:21.358767Z",
     "shell.execute_reply": "2024-07-21T13:27:21.357671Z"
    },
    "papermill": {
     "duration": 0.032634,
     "end_time": "2024-07-21T13:27:21.361343",
     "exception": false,
     "start_time": "2024-07-21T13:27:21.328709",
     "status": "completed"
    },
    "tags": []
   },
   "outputs": [],
   "source": [
    "df['cluster'] = cluster"
   ]
  },
  {
   "cell_type": "code",
   "execution_count": 40,
   "id": "432b6fcd",
   "metadata": {
    "execution": {
     "iopub.execute_input": "2024-07-21T13:27:21.404691Z",
     "iopub.status.busy": "2024-07-21T13:27:21.404286Z",
     "iopub.status.idle": "2024-07-21T13:27:21.426778Z",
     "shell.execute_reply": "2024-07-21T13:27:21.425389Z"
    },
    "papermill": {
     "duration": 0.047371,
     "end_time": "2024-07-21T13:27:21.429533",
     "exception": false,
     "start_time": "2024-07-21T13:27:21.382162",
     "status": "completed"
    },
    "tags": []
   },
   "outputs": [
    {
     "data": {
      "text/html": [
       "<div>\n",
       "<style scoped>\n",
       "    .dataframe tbody tr th:only-of-type {\n",
       "        vertical-align: middle;\n",
       "    }\n",
       "\n",
       "    .dataframe tbody tr th {\n",
       "        vertical-align: top;\n",
       "    }\n",
       "\n",
       "    .dataframe thead th {\n",
       "        text-align: right;\n",
       "    }\n",
       "</style>\n",
       "<table border=\"1\" class=\"dataframe\">\n",
       "  <thead>\n",
       "    <tr style=\"text-align: right;\">\n",
       "      <th></th>\n",
       "      <th>age</th>\n",
       "      <th>revenue</th>\n",
       "    </tr>\n",
       "    <tr>\n",
       "      <th>cluster</th>\n",
       "      <th></th>\n",
       "      <th></th>\n",
       "    </tr>\n",
       "  </thead>\n",
       "  <tbody>\n",
       "    <tr>\n",
       "      <th>0</th>\n",
       "      <td>69</td>\n",
       "      <td>26250.0</td>\n",
       "    </tr>\n",
       "    <tr>\n",
       "      <th>1</th>\n",
       "      <td>69</td>\n",
       "      <td>26250.0</td>\n",
       "    </tr>\n",
       "    <tr>\n",
       "      <th>2</th>\n",
       "      <td>69</td>\n",
       "      <td>26250.0</td>\n",
       "    </tr>\n",
       "  </tbody>\n",
       "</table>\n",
       "</div>"
      ],
      "text/plain": [
       "         age  revenue\n",
       "cluster              \n",
       "0         69  26250.0\n",
       "1         69  26250.0\n",
       "2         69  26250.0"
      ]
     },
     "execution_count": 40,
     "metadata": {},
     "output_type": "execute_result"
    }
   ],
   "source": [
    "df.groupby(['cluster'])[['age','revenue']].max()"
   ]
  },
  {
   "cell_type": "markdown",
   "id": "97b0cd48",
   "metadata": {
    "papermill": {
     "duration": 0.020661,
     "end_time": "2024-07-21T13:27:21.471802",
     "exception": false,
     "start_time": "2024-07-21T13:27:21.451141",
     "status": "completed"
    },
    "tags": []
   },
   "source": [
    "### Oh NO!\n",
    "*Clustering won't works on RFM*\n",
    "1. since our data having unique customer along the whole dataset the frequency is 1 for everyone\n",
    "2. Recency score & Monetary score too doesn't group the customers i.e doesn't find the pattern.\n"
   ]
  },
  {
   "cell_type": "markdown",
   "id": "baebf5e1",
   "metadata": {
    "papermill": {
     "duration": 0.021588,
     "end_time": "2024-07-21T13:27:21.514715",
     "exception": false,
     "start_time": "2024-07-21T13:27:21.493127",
     "status": "completed"
    },
    "tags": []
   },
   "source": [
    "### We Can it Different WAY!\n",
    "*after scrolling & grossing through various books, finally found an approach!*\n",
    "### RFM\n",
    "### Recency + Frequency + Monetary => rfm score\n",
    "the basic idea is to assinging scores for each of the 3 metrics<br>\n",
    "1.) Recency - defines how recently a customer made a purchase or deal.<br>\n",
    "*i.e smaller the days higher the score*\n",
    "2.) Frequency - defines how frequent your customer is making business or purchases can find by invoices<br>\n",
    "*i.e higher the freq higher the score*\n",
    "3.) Monetary - defines how much is your customer is making contribution to your business<br>\n",
    "*i.e higher the Monnetary higher the score*\n",
    "\n",
    "since frequency is 1 for everyone , ignore that,<br>\n",
    "and the idea is to divide the whole data into 5 segments by pandas qcut<br>\n",
    "and assining labels for each metric by the score of it <br>\n",
    "-> recency - [5,4,3,2,1]<br>\n",
    "which means lesser one will get higher point(label)<br>\n",
    "likewise for,<br>\n",
    "-> monetary - [1,2,3,4,5]<br>\n",
    "here the lower contributed one will get low score(label)<br>\n",
    "\n",
    "after finding score for each metric , next is to just generalize the both into a single score(may be concat will better)<br>\n",
    "after concatenating the 2 scores [recency+monetary] we will get the rfm score (leave freq(1))<br>\n",
    "\n",
    "and we may manually segregate by looking into the RfM score, one idea is mapping like below<br>\n",
    "*seg_map = {<br>\n",
    "    r'[1-2][1-2]': 'hibernating',<br>\n",
    "    r'[1-2][3-4]': 'at_Risk',<br>\n",
    "    r'[1-2]5': 'cant_loose',<br>\n",
    "    r'3[1-2]': 'about_to_sleep',<br>\n",
    "    r'33': 'need_attention,<br>\n",
    "    r'[3-4][4-5]': 'loyal_customers',<br>\n",
    "    r'41': 'promising',<br>\n",
    "    r'51': 'new_customers',<br>\n",
    "    r'[4-5][2-3]': 'potential_loyalists',\n",
    "    r'5[4-5]': 'champions'<br>\n",
    "}*\n",
    "<br>\n",
    "those score are having 1st place[1-2] & 2nd place[1-2] were the *hiberenating one*<br>\n",
    "since they may contribute very less as well they may visited long long ago [.. that's why their score is in b/w 1,2]<br>\n",
    "\n",
    "Similarly classified other categories(behaviours as well..)<br>\n"
   ]
  },
  {
   "cell_type": "code",
   "execution_count": 41,
   "id": "cc65f0cc",
   "metadata": {
    "execution": {
     "iopub.execute_input": "2024-07-21T13:27:21.560512Z",
     "iopub.status.busy": "2024-07-21T13:27:21.560082Z",
     "iopub.status.idle": "2024-07-21T13:27:21.604490Z",
     "shell.execute_reply": "2024-07-21T13:27:21.602666Z"
    },
    "papermill": {
     "duration": 0.070615,
     "end_time": "2024-07-21T13:27:21.607528",
     "exception": false,
     "start_time": "2024-07-21T13:27:21.536913",
     "status": "completed"
    },
    "tags": []
   },
   "outputs": [],
   "source": [
    "r_score = np.asarray(pd.qcut(recency.values.reshape(99457),5,[5,4,3,2,1]),dtype='str') #it assigns the labels by the way of order 5<4<3<2<1 least recency will get label 5"
   ]
  },
  {
   "cell_type": "code",
   "execution_count": 42,
   "id": "e681f30f",
   "metadata": {
    "execution": {
     "iopub.execute_input": "2024-07-21T13:27:21.654386Z",
     "iopub.status.busy": "2024-07-21T13:27:21.653961Z",
     "iopub.status.idle": "2024-07-21T13:27:21.696116Z",
     "shell.execute_reply": "2024-07-21T13:27:21.694783Z"
    },
    "papermill": {
     "duration": 0.069644,
     "end_time": "2024-07-21T13:27:21.699080",
     "exception": false,
     "start_time": "2024-07-21T13:27:21.629436",
     "status": "completed"
    },
    "tags": []
   },
   "outputs": [],
   "source": [
    "m_score = np.asarray(pd.qcut(monetary.values.reshape(99457),5,[1,2,3,4,5]),dtype='str')"
   ]
  },
  {
   "cell_type": "code",
   "execution_count": 43,
   "id": "3ed711e3",
   "metadata": {
    "execution": {
     "iopub.execute_input": "2024-07-21T13:27:21.745178Z",
     "iopub.status.busy": "2024-07-21T13:27:21.744757Z",
     "iopub.status.idle": "2024-07-21T13:27:21.812644Z",
     "shell.execute_reply": "2024-07-21T13:27:21.811282Z"
    },
    "papermill": {
     "duration": 0.094335,
     "end_time": "2024-07-21T13:27:21.815426",
     "exception": false,
     "start_time": "2024-07-21T13:27:21.721091",
     "status": "completed"
    },
    "tags": []
   },
   "outputs": [],
   "source": [
    "rfm = pd.concat([recency,frequency,monetary],axis=1)"
   ]
  },
  {
   "cell_type": "code",
   "execution_count": 44,
   "id": "7295a2a1",
   "metadata": {
    "execution": {
     "iopub.execute_input": "2024-07-21T13:27:21.860199Z",
     "iopub.status.busy": "2024-07-21T13:27:21.859777Z",
     "iopub.status.idle": "2024-07-21T13:27:21.988553Z",
     "shell.execute_reply": "2024-07-21T13:27:21.986905Z"
    },
    "papermill": {
     "duration": 0.155131,
     "end_time": "2024-07-21T13:27:21.992070",
     "exception": false,
     "start_time": "2024-07-21T13:27:21.836939",
     "status": "completed"
    },
    "tags": []
   },
   "outputs": [],
   "source": [
    "rfm['rfm_score'] = np.char.add(r_score,m_score)"
   ]
  },
  {
   "cell_type": "code",
   "execution_count": 45,
   "id": "b3f274d9",
   "metadata": {
    "execution": {
     "iopub.execute_input": "2024-07-21T13:27:22.039546Z",
     "iopub.status.busy": "2024-07-21T13:27:22.039130Z",
     "iopub.status.idle": "2024-07-21T13:27:22.047664Z",
     "shell.execute_reply": "2024-07-21T13:27:22.046549Z"
    },
    "papermill": {
     "duration": 0.035452,
     "end_time": "2024-07-21T13:27:22.050223",
     "exception": false,
     "start_time": "2024-07-21T13:27:22.014771",
     "status": "completed"
    },
    "tags": []
   },
   "outputs": [
    {
     "data": {
      "text/plain": [
       "Days           int64\n",
       "frequency      int64\n",
       "monetary     float64\n",
       "rfm_score     object\n",
       "dtype: object"
      ]
     },
     "execution_count": 45,
     "metadata": {},
     "output_type": "execute_result"
    }
   ],
   "source": [
    "rfm.dtypes"
   ]
  },
  {
   "cell_type": "code",
   "execution_count": 46,
   "id": "1dc98475",
   "metadata": {
    "execution": {
     "iopub.execute_input": "2024-07-21T13:27:22.095113Z",
     "iopub.status.busy": "2024-07-21T13:27:22.094718Z",
     "iopub.status.idle": "2024-07-21T13:27:22.100958Z",
     "shell.execute_reply": "2024-07-21T13:27:22.099446Z"
    },
    "papermill": {
     "duration": 0.031822,
     "end_time": "2024-07-21T13:27:22.103534",
     "exception": false,
     "start_time": "2024-07-21T13:27:22.071712",
     "status": "completed"
    },
    "tags": []
   },
   "outputs": [],
   "source": [
    "seg_map = {\n",
    "    r'[1-2][1-2]': 'hibernating',\n",
    "    r'[1-2][3-4]': 'at_Risk',\n",
    "    r'[1-2]5': 'cant_loose',\n",
    "    r'3[1-2]': 'about_to_sleep',\n",
    "    r'33': 'need_attention',\n",
    "    r'[3-4][4-5]': 'loyal_customers',\n",
    "    r'41': 'promising',\n",
    "    r'51': 'new_customers',\n",
    "    r'[4-5][2-3]': 'potential_loyalists',\n",
    "    r'5[4-5]':'champions'\n",
    "}"
   ]
  },
  {
   "cell_type": "code",
   "execution_count": 47,
   "id": "db7e2000",
   "metadata": {
    "execution": {
     "iopub.execute_input": "2024-07-21T13:27:22.156765Z",
     "iopub.status.busy": "2024-07-21T13:27:22.156375Z",
     "iopub.status.idle": "2024-07-21T13:27:23.430682Z",
     "shell.execute_reply": "2024-07-21T13:27:23.429505Z"
    },
    "papermill": {
     "duration": 1.304305,
     "end_time": "2024-07-21T13:27:23.433436",
     "exception": false,
     "start_time": "2024-07-21T13:27:22.129131",
     "status": "completed"
    },
    "tags": []
   },
   "outputs": [],
   "source": [
    "rfm = rfm.replace(seg_map,regex=True)"
   ]
  },
  {
   "cell_type": "code",
   "execution_count": 48,
   "id": "54c577fd",
   "metadata": {
    "execution": {
     "iopub.execute_input": "2024-07-21T13:27:23.477899Z",
     "iopub.status.busy": "2024-07-21T13:27:23.477141Z",
     "iopub.status.idle": "2024-07-21T13:27:23.490799Z",
     "shell.execute_reply": "2024-07-21T13:27:23.489397Z"
    },
    "papermill": {
     "duration": 0.038719,
     "end_time": "2024-07-21T13:27:23.493277",
     "exception": false,
     "start_time": "2024-07-21T13:27:23.454558",
     "status": "completed"
    },
    "tags": []
   },
   "outputs": [
    {
     "data": {
      "text/html": [
       "<div>\n",
       "<style scoped>\n",
       "    .dataframe tbody tr th:only-of-type {\n",
       "        vertical-align: middle;\n",
       "    }\n",
       "\n",
       "    .dataframe tbody tr th {\n",
       "        vertical-align: top;\n",
       "    }\n",
       "\n",
       "    .dataframe thead th {\n",
       "        text-align: right;\n",
       "    }\n",
       "</style>\n",
       "<table border=\"1\" class=\"dataframe\">\n",
       "  <thead>\n",
       "    <tr style=\"text-align: right;\">\n",
       "      <th></th>\n",
       "      <th>Days</th>\n",
       "      <th>frequency</th>\n",
       "      <th>monetary</th>\n",
       "      <th>rfm_score</th>\n",
       "    </tr>\n",
       "    <tr>\n",
       "      <th>customer_id</th>\n",
       "      <th></th>\n",
       "      <th></th>\n",
       "      <th></th>\n",
       "      <th></th>\n",
       "    </tr>\n",
       "  </thead>\n",
       "  <tbody>\n",
       "    <tr>\n",
       "      <th>C100004</th>\n",
       "      <td>467</td>\n",
       "      <td>1</td>\n",
       "      <td>7502.00</td>\n",
       "      <td>loyal_customers</td>\n",
       "    </tr>\n",
       "    <tr>\n",
       "      <th>C100005</th>\n",
       "      <td>5</td>\n",
       "      <td>1</td>\n",
       "      <td>2400.68</td>\n",
       "      <td>champions</td>\n",
       "    </tr>\n",
       "    <tr>\n",
       "      <th>C100006</th>\n",
       "      <td>97</td>\n",
       "      <td>1</td>\n",
       "      <td>322.56</td>\n",
       "      <td>potential_loyalists</td>\n",
       "    </tr>\n",
       "    <tr>\n",
       "      <th>C100012</th>\n",
       "      <td>570</td>\n",
       "      <td>1</td>\n",
       "      <td>130.75</td>\n",
       "      <td>hibernating</td>\n",
       "    </tr>\n",
       "    <tr>\n",
       "      <th>C100019</th>\n",
       "      <td>591</td>\n",
       "      <td>1</td>\n",
       "      <td>35.84</td>\n",
       "      <td>hibernating</td>\n",
       "    </tr>\n",
       "  </tbody>\n",
       "</table>\n",
       "</div>"
      ],
      "text/plain": [
       "             Days  frequency  monetary            rfm_score\n",
       "customer_id                                                \n",
       "C100004       467          1   7502.00      loyal_customers\n",
       "C100005         5          1   2400.68            champions\n",
       "C100006        97          1    322.56  potential_loyalists\n",
       "C100012       570          1    130.75          hibernating\n",
       "C100019       591          1     35.84          hibernating"
      ]
     },
     "execution_count": 48,
     "metadata": {},
     "output_type": "execute_result"
    }
   ],
   "source": [
    "rfm.head()"
   ]
  },
  {
   "cell_type": "code",
   "execution_count": 49,
   "id": "291df240",
   "metadata": {
    "execution": {
     "iopub.execute_input": "2024-07-21T13:27:23.543306Z",
     "iopub.status.busy": "2024-07-21T13:27:23.542893Z",
     "iopub.status.idle": "2024-07-21T13:27:23.615481Z",
     "shell.execute_reply": "2024-07-21T13:27:23.614163Z"
    },
    "papermill": {
     "duration": 0.102073,
     "end_time": "2024-07-21T13:27:23.618835",
     "exception": false,
     "start_time": "2024-07-21T13:27:23.516762",
     "status": "completed"
    },
    "tags": []
   },
   "outputs": [
    {
     "data": {
      "text/html": [
       "<div>\n",
       "<style scoped>\n",
       "    .dataframe tbody tr th:only-of-type {\n",
       "        vertical-align: middle;\n",
       "    }\n",
       "\n",
       "    .dataframe tbody tr th {\n",
       "        vertical-align: top;\n",
       "    }\n",
       "\n",
       "    .dataframe thead tr th {\n",
       "        text-align: left;\n",
       "    }\n",
       "\n",
       "    .dataframe thead tr:last-of-type th {\n",
       "        text-align: right;\n",
       "    }\n",
       "</style>\n",
       "<table border=\"1\" class=\"dataframe\">\n",
       "  <thead>\n",
       "    <tr>\n",
       "      <th></th>\n",
       "      <th colspan=\"2\" halign=\"left\">Days</th>\n",
       "      <th colspan=\"2\" halign=\"left\">monetary</th>\n",
       "    </tr>\n",
       "    <tr>\n",
       "      <th></th>\n",
       "      <th>mean</th>\n",
       "      <th>count</th>\n",
       "      <th>mean</th>\n",
       "      <th>count</th>\n",
       "    </tr>\n",
       "    <tr>\n",
       "      <th>rfm_score</th>\n",
       "      <th></th>\n",
       "      <th></th>\n",
       "      <th></th>\n",
       "      <th></th>\n",
       "    </tr>\n",
       "  </thead>\n",
       "  <tbody>\n",
       "    <tr>\n",
       "      <th>about_to_sleep</th>\n",
       "      <td>397.017383</td>\n",
       "      <td>8169</td>\n",
       "      <td>122.017051</td>\n",
       "      <td>8169</td>\n",
       "    </tr>\n",
       "    <tr>\n",
       "      <th>at_Risk</th>\n",
       "      <td>636.230604</td>\n",
       "      <td>17233</td>\n",
       "      <td>1922.159945</td>\n",
       "      <td>17233</td>\n",
       "    </tr>\n",
       "    <tr>\n",
       "      <th>cant_loose</th>\n",
       "      <td>634.030574</td>\n",
       "      <td>6378</td>\n",
       "      <td>10313.817415</td>\n",
       "      <td>6378</td>\n",
       "    </tr>\n",
       "    <tr>\n",
       "      <th>champions</th>\n",
       "      <td>78.507926</td>\n",
       "      <td>7885</td>\n",
       "      <td>5968.828725</td>\n",
       "      <td>7885</td>\n",
       "    </tr>\n",
       "    <tr>\n",
       "      <th>hibernating</th>\n",
       "      <td>636.499194</td>\n",
       "      <td>16124</td>\n",
       "      <td>123.167182</td>\n",
       "      <td>16124</td>\n",
       "    </tr>\n",
       "    <tr>\n",
       "      <th>loyal_customers</th>\n",
       "      <td>316.989234</td>\n",
       "      <td>15791</td>\n",
       "      <td>5892.395186</td>\n",
       "      <td>15791</td>\n",
       "    </tr>\n",
       "    <tr>\n",
       "      <th>need_attention</th>\n",
       "      <td>397.393328</td>\n",
       "      <td>3867</td>\n",
       "      <td>648.100590</td>\n",
       "      <td>3867</td>\n",
       "    </tr>\n",
       "    <tr>\n",
       "      <th>new_customers</th>\n",
       "      <td>78.831994</td>\n",
       "      <td>4232</td>\n",
       "      <td>37.986009</td>\n",
       "      <td>4232</td>\n",
       "    </tr>\n",
       "    <tr>\n",
       "      <th>potential_loyalists</th>\n",
       "      <td>157.924629</td>\n",
       "      <td>15616</td>\n",
       "      <td>427.837898</td>\n",
       "      <td>15616</td>\n",
       "    </tr>\n",
       "    <tr>\n",
       "      <th>promising</th>\n",
       "      <td>239.701586</td>\n",
       "      <td>4162</td>\n",
       "      <td>37.932302</td>\n",
       "      <td>4162</td>\n",
       "    </tr>\n",
       "  </tbody>\n",
       "</table>\n",
       "</div>"
      ],
      "text/plain": [
       "                           Days             monetary       \n",
       "                           mean  count          mean  count\n",
       "rfm_score                                                  \n",
       "about_to_sleep       397.017383   8169    122.017051   8169\n",
       "at_Risk              636.230604  17233   1922.159945  17233\n",
       "cant_loose           634.030574   6378  10313.817415   6378\n",
       "champions             78.507926   7885   5968.828725   7885\n",
       "hibernating          636.499194  16124    123.167182  16124\n",
       "loyal_customers      316.989234  15791   5892.395186  15791\n",
       "need_attention       397.393328   3867    648.100590   3867\n",
       "new_customers         78.831994   4232     37.986009   4232\n",
       "potential_loyalists  157.924629  15616    427.837898  15616\n",
       "promising            239.701586   4162     37.932302   4162"
      ]
     },
     "execution_count": 49,
     "metadata": {},
     "output_type": "execute_result"
    }
   ],
   "source": [
    "rfm.groupby(['rfm_score'])[['Days','monetary']].agg(['mean','count'])"
   ]
  },
  {
   "cell_type": "code",
   "execution_count": 50,
   "id": "4436a838",
   "metadata": {
    "execution": {
     "iopub.execute_input": "2024-07-21T13:27:23.670617Z",
     "iopub.status.busy": "2024-07-21T13:27:23.670212Z",
     "iopub.status.idle": "2024-07-21T13:27:24.056036Z",
     "shell.execute_reply": "2024-07-21T13:27:24.054987Z"
    },
    "papermill": {
     "duration": 0.413296,
     "end_time": "2024-07-21T13:27:24.058817",
     "exception": false,
     "start_time": "2024-07-21T13:27:23.645521",
     "status": "completed"
    },
    "tags": []
   },
   "outputs": [
    {
     "data": {
      "text/plain": [
       "<Axes: xlabel='count', ylabel='rfm_score'>"
      ]
     },
     "execution_count": 50,
     "metadata": {},
     "output_type": "execute_result"
    },
    {
     "data": {
      "image/png": "[encoded data removed]",
      "text/plain": [
       "<Figure size 640x480 with 1 Axes>"
      ]
     },
     "metadata": {},
     "output_type": "display_data"
    }
   ],
   "source": [
    "# plt.figure(figsize=(19,5))\n",
    "sns.countplot(data=rfm,y='rfm_score')"
   ]
  },
  {
   "cell_type": "markdown",
   "id": "838166ad",
   "metadata": {
    "papermill": {
     "duration": 0.02401,
     "end_time": "2024-07-21T13:27:24.105568",
     "exception": false,
     "start_time": "2024-07-21T13:27:24.081558",
     "status": "completed"
    },
    "tags": []
   },
   "source": [
    "\n",
    "# Results:\n",
    "1. Moreover, we can see that Kanyon and Mall of Istanbul outperformed other malls.<br>\n",
    "   *They both follow the same pattern of item distribution, with the highest number being clothing.*<br>\n",
    "2. Every mall has more female customers compared to male customers, possibly due to clothing.<br>\n",
    "3. Since Istanbul Mall is a large one, almost every item on the list except souvenirs can be covered in sales.<br>\n",
    "4. Souvenirs were available at the highest rate at Kanyon Mall compared to other malls.<br>\n",
    "5. Payments are mostly made in cash, followed by credit and debit cards in every city.<br>\n",
    "6. With the help of the stacked chart, we can interpret that every mall has a similar weightage of having the stock of items.<br>\n",
    "<br>\n",
    "Additionally, I tried to group the customers by RFM score. Unfortunately, this data has n unique customers, and cluster analysis didn't work well. So, I manually segregated them by R+M score into 10 groups, and we have some safe groups as well as a churning group of customers. The bar plot of customer behavior at the mall is plotted above."
   ]
  },
  {
   "cell_type": "markdown",
   "id": "a043ffca",
   "metadata": {
    "papermill": {
     "duration": 0.024581,
     "end_time": "2024-07-21T13:27:24.154489",
     "exception": false,
     "start_time": "2024-07-21T13:27:24.129908",
     "status": "completed"
    },
    "tags": []
   },
   "source": [
    "### Thank You ! ❤️🤞\n",
    "--Abubacker S"
   ]
  }
 ],
 "metadata": {
  "kaggle": {
   "accelerator": "none",
   "dataSources": [
    {
     "datasetId": 2980151,
     "sourceId": 5132961,
     "sourceType": "datasetVersion"
    }
   ],
   "dockerImageVersionId": 30746,
   "isGpuEnabled": false,
   "isInternetEnabled": true,
   "language": "python",
   "sourceType": "notebook"
  },
  "kernelspec": {
   "display_name": "Python 3",
   "language": "python",
   "name": "python3"
  },
  "language_info": {
   "codemirror_mode": {
    "name": "ipython",
    "version": 3
   },
   "file_extension": ".py",
   "mimetype": "text/x-python",
   "name": "python",
   "nbconvert_exporter": "python",
   "pygments_lexer": "ipython3",
   "version": "3.10.13"
  },
  "papermill": {
   "default_parameters": {},
   "duration": 43.916036,
   "end_time": "2024-07-21T13:27:24.901823",
   "environment_variables": {},
   "exception": null,
   "input_path": "__notebook__.ipynb",
   "output_path": "__notebook__.ipynb",
   "parameters": {},
   "start_time": "2024-07-21T13:26:40.985787",
   "version": "2.5.0"
  }
 },
 "nbformat": 4,
 "nbformat_minor": 5
}
